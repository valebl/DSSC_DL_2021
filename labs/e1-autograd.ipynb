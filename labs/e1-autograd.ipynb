{
 "metadata": {
  "language_info": {
   "codemirror_mode": {
    "name": "ipython",
    "version": 3
   },
   "file_extension": ".py",
   "mimetype": "text/x-python",
   "name": "python",
   "nbconvert_exporter": "python",
   "pygments_lexer": "ipython3",
   "version": "3.8.6-final"
  },
  "orig_nbformat": 2,
  "kernelspec": {
   "name": "python386jvsc74a57bd08aec2e4cca6a43ecda9b11f31ea0f9f4b012d28e6de8cbdf64a5e136ca9a5fb0",
   "display_name": "Python 3.8.6 64-bit ('lottery': venv)"
  },
  "metadata": {
   "interpreter": {
    "hash": "8aec2e4cca6a43ecda9b11f31ea0f9f4b012d28e6de8cbdf64a5e136ca9a5fb0"
   }
  }
 },
 "nbformat": 4,
 "nbformat_minor": 2,
 "cells": [
  {
   "source": [
    "# Extra lab 1 - Basics of Autograd in Python\n",
    "\n",
    "In this extra laboratory, we will learn a few concepts about autograd in PyTorch and how to build modules with a custom backward pass."
   ],
   "cell_type": "markdown",
   "metadata": {}
  },
  {
   "source": [
    "## Building a computational graph and obtaining derivatives\n",
    "\n",
    "A computational graph in PT is automatically constructed by just applying some operations on one or more PT tensors.\n",
    "\n",
    "Let us reproduce the example from prof. Manzoni's lecture:\n",
    "\n",
    "![](img/compgraph.png)\n",
    "\n",
    "Input (leaf) tensors are indicated in yellow circles, gray circles indicate intermediate tensors, blue circles output tensors, operations are shown in black squares."
   ],
   "cell_type": "markdown",
   "metadata": {}
  },
  {
   "source": [
    "### Gradient flow for $y_1$\n",
    "\n",
    "Suppose we wish to calculate $\\frac{\\partial y_1}{\\partial x_1}$. Thanks to the chain rule and the linearity of the derivative operator, we can decompose it in the following way: $\\frac{\\partial y_1}{\\partial b}\\frac{\\partial b}{\\partial x_1} + \\frac{\\partial y_1}{\\partial a}\\frac{\\partial a}{\\partial x_1}$.\n",
    "\n",
    "Now, $\\frac{\\partial y_1}{\\partial b}=\\frac{\\partial a+b}{\\partial b}=1$. The same with $\\frac{\\partial y_1}{\\partial a}$.\n",
    "\n",
    "On the other hand, $\\frac{\\partial b}{\\partial x_1} = \\frac{\\partial \\cos(x_1)}{\\partial x_1} = -\\sin(x_1)$, and $\\frac{\\partial a}{\\partial x_1} = \\frac{\\partial x_1 x_2}{\\partial x_1} = x_2$.\n",
    "\n",
    "We hence have all we need to calculate the gradient, we just need to assign a given value to $x_1, x_2$, say, $3$ and $2$.\n",
    "\n",
    "Now, backpropagation:\n",
    "\n",
    "$\\frac{\\partial y_1}{\\partial a}=\\frac{\\partial y_1}{\\partial b}=1$\n",
    "\n",
    "$\\frac{\\partial b}{\\partial x_1}\\frac{\\partial y_1}{\\partial b}=-\\sin(x_1)\\cdot 1= -0.14 $\n",
    "\n",
    "$\\frac{\\partial a}{\\partial x_1}\\frac{\\partial y_1}{\\partial a}=x_2\\cdot 1= 2$\n",
    "\n",
    "$\\frac{\\partial y_1}{\\partial b}\\frac{\\partial b}{\\partial x_1} + \\frac{\\partial y_1}{\\partial a}\\frac{\\partial a}{\\partial x_1} = 2-0.14 = 1.86$ \n",
    "\n",
    "Similarly, for $x_2$,\n",
    "\n",
    "$\\frac{\\partial y_1}{\\partial a}=\\frac{\\partial y_1}{\\partial b}=1$\n",
    "\n",
    "$\\frac{\\partial b}{\\partial x_2}\\frac{\\partial y_1}{\\partial b}=0 \\cdot 1= 0 $\n",
    "\n",
    "$\\frac{\\partial a}{\\partial x_2}\\frac{\\partial y_1}{\\partial a}=3 \\cdot 1= 3$\n",
    "\n",
    "$\\frac{\\partial y_1}{\\partial b}\\frac{\\partial b}{\\partial x_2} + \\frac{\\partial y_1}{\\partial a}\\frac{\\partial a}{\\partial x_2} = 3$ "
   ],
   "cell_type": "markdown",
   "metadata": {}
  },
  {
   "cell_type": "code",
   "execution_count": null,
   "metadata": {},
   "outputs": [],
   "source": [
    "import torch\n",
    "from matplotlib import pyplot as plt"
   ]
  },
  {
   "source": [
    "We construct the tensor by specifying `requires_grad=True` in the constructor. If we don't do it, the gradient information won't be retained for the specific leaf tensor."
   ],
   "cell_type": "markdown",
   "metadata": {}
  },
  {
   "cell_type": "code",
   "execution_count": 20,
   "metadata": {},
   "outputs": [
    {
     "output_type": "stream",
     "name": "stdout",
     "text": [
      "tensor([3.], requires_grad=True)\ntensor([2.], requires_grad=True)\n"
     ]
    }
   ],
   "source": [
    "x_1 = torch.tensor([3.0], requires_grad=True)\n",
    "x_2 = torch.tensor([2.0], requires_grad=True)\n",
    "print(x_1)\n",
    "print(x_2)"
   ]
  },
  {
   "source": [
    "By obtaining and printing `a`, we can see that the tensor has a specific gradient function attached."
   ],
   "cell_type": "markdown",
   "metadata": {}
  },
  {
   "cell_type": "code",
   "execution_count": 64,
   "metadata": {},
   "outputs": [
    {
     "output_type": "stream",
     "name": "stdout",
     "text": [
      "tensor([6.], grad_fn=<MulBackward0>)\n"
     ]
    }
   ],
   "source": [
    "x_1.grad = None\n",
    "a = x_1 * x_2\n",
    "print(a)"
   ]
  },
  {
   "cell_type": "code",
   "execution_count": 65,
   "metadata": {},
   "outputs": [
    {
     "output_type": "stream",
     "name": "stdout",
     "text": [
      "tensor([5.0100], grad_fn=<AddBackward0>)\n"
     ]
    }
   ],
   "source": [
    "b = x_1.cos()\n",
    "y_1 = a + b\n",
    "print(y_1)"
   ]
  },
  {
   "cell_type": "code",
   "execution_count": 23,
   "metadata": {},
   "outputs": [
    {
     "output_type": "stream",
     "name": "stdout",
     "text": [
      "tensor([7.0986], grad_fn=<SubBackward0>)\n"
     ]
    }
   ],
   "source": [
    "d = x_1.log()\n",
    "e = x_2 ** 3\n",
    "g = d + e\n",
    "y_2 = g - x_2\n",
    "print(y_2)"
   ]
  },
  {
   "cell_type": "code",
   "execution_count": 24,
   "metadata": {},
   "outputs": [
    {
     "output_type": "stream",
     "name": "stdout",
     "text": [
      "tensor([[5.0100],\n        [7.0986]], grad_fn=<StackBackward>)\n"
     ]
    }
   ],
   "source": [
    "f = torch.stack((y_1, y_2))\n",
    "print(f)"
   ]
  },
  {
   "source": [
    "We ask Python to calculate the gradient with the `backward` method.\n",
    "\n",
    "Note: `backward()` may be called only on singleton tensors!"
   ],
   "cell_type": "markdown",
   "metadata": {}
  },
  {
   "cell_type": "code",
   "execution_count": 25,
   "metadata": {},
   "outputs": [
    {
     "output_type": "error",
     "ename": "RuntimeError",
     "evalue": "grad can be implicitly created only for scalar outputs",
     "traceback": [
      "\u001b[0;31m---------------------------------------------------------------------------\u001b[0m",
      "\u001b[0;31mRuntimeError\u001b[0m                              Traceback (most recent call last)",
      "\u001b[0;32m<ipython-input-25-936a4595e718>\u001b[0m in \u001b[0;36m<module>\u001b[0;34m\u001b[0m\n\u001b[0;32m----> 1\u001b[0;31m \u001b[0mf\u001b[0m\u001b[0;34m.\u001b[0m\u001b[0mbackward\u001b[0m\u001b[0;34m(\u001b[0m\u001b[0;34m)\u001b[0m\u001b[0;34m\u001b[0m\u001b[0;34m\u001b[0m\u001b[0m\n\u001b[0m",
      "\u001b[0;32m~/.pyenv/versions/lottery/lib/python3.8/site-packages/torch/tensor.py\u001b[0m in \u001b[0;36mbackward\u001b[0;34m(self, gradient, retain_graph, create_graph)\u001b[0m\n\u001b[1;32m    219\u001b[0m                 \u001b[0mretain_graph\u001b[0m\u001b[0;34m=\u001b[0m\u001b[0mretain_graph\u001b[0m\u001b[0;34m,\u001b[0m\u001b[0;34m\u001b[0m\u001b[0;34m\u001b[0m\u001b[0m\n\u001b[1;32m    220\u001b[0m                 create_graph=create_graph)\n\u001b[0;32m--> 221\u001b[0;31m         \u001b[0mtorch\u001b[0m\u001b[0;34m.\u001b[0m\u001b[0mautograd\u001b[0m\u001b[0;34m.\u001b[0m\u001b[0mbackward\u001b[0m\u001b[0;34m(\u001b[0m\u001b[0mself\u001b[0m\u001b[0;34m,\u001b[0m \u001b[0mgradient\u001b[0m\u001b[0;34m,\u001b[0m \u001b[0mretain_graph\u001b[0m\u001b[0;34m,\u001b[0m \u001b[0mcreate_graph\u001b[0m\u001b[0;34m)\u001b[0m\u001b[0;34m\u001b[0m\u001b[0;34m\u001b[0m\u001b[0m\n\u001b[0m\u001b[1;32m    222\u001b[0m \u001b[0;34m\u001b[0m\u001b[0m\n\u001b[1;32m    223\u001b[0m     \u001b[0;32mdef\u001b[0m \u001b[0mregister_hook\u001b[0m\u001b[0;34m(\u001b[0m\u001b[0mself\u001b[0m\u001b[0;34m,\u001b[0m \u001b[0mhook\u001b[0m\u001b[0;34m)\u001b[0m\u001b[0;34m:\u001b[0m\u001b[0;34m\u001b[0m\u001b[0;34m\u001b[0m\u001b[0m\n",
      "\u001b[0;32m~/.pyenv/versions/lottery/lib/python3.8/site-packages/torch/autograd/__init__.py\u001b[0m in \u001b[0;36mbackward\u001b[0;34m(tensors, grad_tensors, retain_graph, create_graph, grad_variables)\u001b[0m\n\u001b[1;32m    124\u001b[0m \u001b[0;34m\u001b[0m\u001b[0m\n\u001b[1;32m    125\u001b[0m     \u001b[0mgrad_tensors_\u001b[0m \u001b[0;34m=\u001b[0m \u001b[0m_tensor_or_tensors_to_tuple\u001b[0m\u001b[0;34m(\u001b[0m\u001b[0mgrad_tensors\u001b[0m\u001b[0;34m,\u001b[0m \u001b[0mlen\u001b[0m\u001b[0;34m(\u001b[0m\u001b[0mtensors\u001b[0m\u001b[0;34m)\u001b[0m\u001b[0;34m)\u001b[0m\u001b[0;34m\u001b[0m\u001b[0;34m\u001b[0m\u001b[0m\n\u001b[0;32m--> 126\u001b[0;31m     \u001b[0mgrad_tensors_\u001b[0m \u001b[0;34m=\u001b[0m \u001b[0m_make_grads\u001b[0m\u001b[0;34m(\u001b[0m\u001b[0mtensors\u001b[0m\u001b[0;34m,\u001b[0m \u001b[0mgrad_tensors_\u001b[0m\u001b[0;34m)\u001b[0m\u001b[0;34m\u001b[0m\u001b[0;34m\u001b[0m\u001b[0m\n\u001b[0m\u001b[1;32m    127\u001b[0m     \u001b[0;32mif\u001b[0m \u001b[0mretain_graph\u001b[0m \u001b[0;32mis\u001b[0m \u001b[0;32mNone\u001b[0m\u001b[0;34m:\u001b[0m\u001b[0;34m\u001b[0m\u001b[0;34m\u001b[0m\u001b[0m\n\u001b[1;32m    128\u001b[0m         \u001b[0mretain_graph\u001b[0m \u001b[0;34m=\u001b[0m \u001b[0mcreate_graph\u001b[0m\u001b[0;34m\u001b[0m\u001b[0;34m\u001b[0m\u001b[0m\n",
      "\u001b[0;32m~/.pyenv/versions/lottery/lib/python3.8/site-packages/torch/autograd/__init__.py\u001b[0m in \u001b[0;36m_make_grads\u001b[0;34m(outputs, grads)\u001b[0m\n\u001b[1;32m     48\u001b[0m             \u001b[0;32mif\u001b[0m \u001b[0mout\u001b[0m\u001b[0;34m.\u001b[0m\u001b[0mrequires_grad\u001b[0m\u001b[0;34m:\u001b[0m\u001b[0;34m\u001b[0m\u001b[0;34m\u001b[0m\u001b[0m\n\u001b[1;32m     49\u001b[0m                 \u001b[0;32mif\u001b[0m \u001b[0mout\u001b[0m\u001b[0;34m.\u001b[0m\u001b[0mnumel\u001b[0m\u001b[0;34m(\u001b[0m\u001b[0;34m)\u001b[0m \u001b[0;34m!=\u001b[0m \u001b[0;36m1\u001b[0m\u001b[0;34m:\u001b[0m\u001b[0;34m\u001b[0m\u001b[0;34m\u001b[0m\u001b[0m\n\u001b[0;32m---> 50\u001b[0;31m                     \u001b[0;32mraise\u001b[0m \u001b[0mRuntimeError\u001b[0m\u001b[0;34m(\u001b[0m\u001b[0;34m\"grad can be implicitly created only for scalar outputs\"\u001b[0m\u001b[0;34m)\u001b[0m\u001b[0;34m\u001b[0m\u001b[0;34m\u001b[0m\u001b[0m\n\u001b[0m\u001b[1;32m     51\u001b[0m                 \u001b[0mnew_grads\u001b[0m\u001b[0;34m.\u001b[0m\u001b[0mappend\u001b[0m\u001b[0;34m(\u001b[0m\u001b[0mtorch\u001b[0m\u001b[0;34m.\u001b[0m\u001b[0mones_like\u001b[0m\u001b[0;34m(\u001b[0m\u001b[0mout\u001b[0m\u001b[0;34m,\u001b[0m \u001b[0mmemory_format\u001b[0m\u001b[0;34m=\u001b[0m\u001b[0mtorch\u001b[0m\u001b[0;34m.\u001b[0m\u001b[0mpreserve_format\u001b[0m\u001b[0;34m)\u001b[0m\u001b[0;34m)\u001b[0m\u001b[0;34m\u001b[0m\u001b[0;34m\u001b[0m\u001b[0m\n\u001b[1;32m     52\u001b[0m             \u001b[0;32melse\u001b[0m\u001b[0;34m:\u001b[0m\u001b[0;34m\u001b[0m\u001b[0;34m\u001b[0m\u001b[0m\n",
      "\u001b[0;31mRuntimeError\u001b[0m: grad can be implicitly created only for scalar outputs"
     ]
    }
   ],
   "source": [
    "f.backward()"
   ]
  },
  {
   "source": [
    "We then call `backward()` on the two scalars composing it. We also call `retain_graph=True` on the first try since each time a vanilla `backward()` is called, PT deletes the underlying computational graph for efficiency reasons."
   ],
   "cell_type": "markdown",
   "metadata": {}
  },
  {
   "cell_type": "code",
   "execution_count": 26,
   "metadata": {},
   "outputs": [],
   "source": [
    "f[0].backward() # equivalent to y_1.backward()"
   ]
  },
  {
   "source": [
    "Let us analyze the gradients:"
   ],
   "cell_type": "markdown",
   "metadata": {}
  },
  {
   "cell_type": "code",
   "execution_count": 27,
   "metadata": {},
   "outputs": [
    {
     "output_type": "stream",
     "name": "stderr",
     "text": [
      "<ipython-input-27-d5fb09b6846b>:1: UserWarning: The .grad attribute of a Tensor that is not a leaf Tensor is being accessed. Its .grad attribute won't be populated during autograd.backward(). If you indeed want the gradient for a non-leaf Tensor, use .retain_grad() on the non-leaf Tensor. If you access the non-leaf Tensor by mistake, make sure you access the leaf Tensor instead. See github.com/pytorch/pytorch/pull/30531 for more informations.\n  e.grad\n"
     ]
    }
   ],
   "source": [
    "e.grad"
   ]
  },
  {
   "source": [
    "Indeed, the grad is stored (again, for efficiency reasons) only on the leaf tensors. You may use [hooks](https://www.youtube.com/watch?v=syLFCVYua6Q) to retain also intermediate grads."
   ],
   "cell_type": "markdown",
   "metadata": {}
  },
  {
   "cell_type": "code",
   "execution_count": 28,
   "metadata": {},
   "outputs": [
    {
     "output_type": "stream",
     "name": "stdout",
     "text": [
      "tensor([1.8589]) \n\ntensor([3.])\n"
     ]
    }
   ],
   "source": [
    "print(x_1.grad, \"\\n\")\n",
    "print(x_2.grad)"
   ]
  },
  {
   "source": [
    "Let's do it the quick way:"
   ],
   "cell_type": "markdown",
   "metadata": {}
  },
  {
   "cell_type": "code",
   "execution_count": 29,
   "metadata": {},
   "outputs": [
    {
     "output_type": "stream",
     "name": "stdout",
     "text": [
      "tensor([[5.0100],\n        [7.0986]], grad_fn=<StackBackward>)\ntensor([4.0511]) \n\ntensor([17.])\n"
     ]
    }
   ],
   "source": [
    "ff = torch.stack([\n",
    "    x_1 * x_2 + x_1.cos(),\n",
    "    x_1.log() + x_2 ** 3 - x_2\n",
    "])\n",
    "ff[0].backward(retain_graph=True)\n",
    "ff[1].backward()\n",
    "print(ff)\n",
    "print(x_1.grad, \"\\n\")\n",
    "print(x_2.grad)"
   ]
  },
  {
   "source": [
    "**Q**: what did we do here?\n",
    "\n",
    "Answer: we called `.backward()` twice (the first time retaining the graph, which would otherwise be deleted by PT upon the first `backward` call). The gradients have then been accumulated.\n",
    "\n",
    "Note that PT by itself cannot compute Jacobians directly: they have to be created by calling `backward` on each of the scalar composing the output of the function and the gradients on the leaves stored somewhere else (this is one of the downsides of backprop of which Manzoni was talking before).\n",
    "\n",
    "I.e., if we have $f:\\mathbb{R}^d\\rightarrow\\mathbb{R}$, we can obtain the gradients of $\\mathbf{x}\\in\\mathbb{R}^d$ in one-shot by calling `.backward()` on $f(\\mathbf{x})$. But, if $f:\\mathbb{R}^d\\rightarrow\\mathbb{R}^p$, we have to compute separately $\\partial{f_j}/\\partial{\\mathbf{x}}$ each time by executing a backward pass on $f_j(\\mathbf{x})$, storing the gradient somewhere else (e.g., in a matrix $J\\in\\mathbb{R}^{p\\times d}$) and clearing the gradient (so it doesn't get accumulated).\n",
    "\n",
    "The problem of **gradient accumulation** can be seen also in this other example. If we execute this cell multiple times, we'll see that the gradients start growing"
   ],
   "cell_type": "markdown",
   "metadata": {}
  },
  {
   "cell_type": "code",
   "execution_count": 69,
   "metadata": {},
   "outputs": [
    {
     "output_type": "stream",
     "name": "stdout",
     "text": [
      "tensor([[5.0100],\n        [7.0986]], grad_fn=<StackBackward>)\ntensor([0.6667]) \n\ntensor([22.])\n"
     ]
    }
   ],
   "source": [
    "ff = torch.stack([\n",
    "    x_1 * x_2 + x_1.cos(),\n",
    "    x_1.log() + x_2 ** 3 - x_2\n",
    "])\n",
    "ff[1].backward()\n",
    "print(ff)\n",
    "print(x_1.grad, \"\\n\")\n",
    "print(x_2.grad)"
   ]
  },
  {
   "source": [
    "**Q**: why does it keep on growing?\n",
    "\n",
    "Answer: because each time we're accumulating the current gradient to the previous grad stored in x_1 and x_2.\n",
    "\n",
    "The gradient must be cleared by setting it to `None`. This is actually what `model.zero_grad()` and `optimizer.zero_grad()` do in our model training routines.\n",
    "\n",
    "Try executing this cell below multiple times: you'll see the gradient doesn't change:"
   ],
   "cell_type": "markdown",
   "metadata": {}
  },
  {
   "source": [
    "x_1.grad = None\n",
    "x_2.grad = None\n",
    "ff = torch.stack([\n",
    "    x_1 * x_2 + x_1.cos(),\n",
    "    x_1.log() + x_2 ** 3 - x_2\n",
    "])\n",
    "ff[1].backward()\n",
    "print(ff)\n",
    "print(x_1.grad, \"\\n\")\n",
    "print(x_2.grad)"
   ],
   "cell_type": "code",
   "metadata": {},
   "execution_count": 75,
   "outputs": [
    {
     "output_type": "stream",
     "name": "stdout",
     "text": [
      "tensor([[5.0100],\n        [7.0986]], grad_fn=<StackBackward>)\ntensor([0.3333]) \n\ntensor([11.])\n"
     ]
    }
   ]
  },
  {
   "source": [
    "## Building a custom non-parametric module\n",
    "\n",
    "Basically, we want to create a module which is not controlled by any parameter, be it trainable or non-trainable.\n",
    "\n",
    "As an example, we might have the Leaky ReLU, an activation function which can be used in place of the more-known ReLU.\n",
    "\n",
    "$\\text{Leaky_ReLU} = \\max\\{0.01\\cdot x, x\\}$\n",
    "\n",
    "![](https://i1.wp.com/clay-atlas.com/wp-content/uploads/2019/10/image-37.png?resize=640%2C480&ssl=1)\n",
    "\n",
    "We could do it with the basic PyTorch Tensor methods, like we did at the end of Lab2. Suppose though that, for any reason, we did not have an automatic gradient calculation: we would need to build an autograd Function to implement our Leaky ReLU."
   ],
   "cell_type": "markdown",
   "metadata": {}
  },
  {
   "source": [
    "An autograd Function inherits from `torch.autograd.Function` and has two compulsory methods: `forward` and `backward`, whose meaning should be obvious to all.\n",
    "\n",
    "Both functions have a compulsory first argument which is the **context**, `ctx` for brevity.\n",
    "From the context we can infer informations about the entities involved in the calculation of the gradient.\n",
    "The context is built upon calling the `forward` method, so that, during the `backward` call, we can obtain the info such what tensors have been used in `forward` and whether a tensor requires or not the grad.\n",
    "\n",
    "Moreover, the backward method needs an additional argument, `output_grad`, which conveys information about the gradient which is _entering_ the Function (be mindful, we're running _backward_, so a gradient _enters the function_ upstream w.r.t. the forward pass)."
   ],
   "cell_type": "markdown",
   "metadata": {}
  },
  {
   "cell_type": "code",
   "execution_count": 37,
   "metadata": {},
   "outputs": [],
   "source": [
    "class LeakyReLU_Fun(torch.autograd.Function):\n",
    "    @staticmethod # mind the decorator\n",
    "    def forward(ctx, input_):\n",
    "        ctx.save_for_backward(input_) # the parameters that will be involved in the gradient\n",
    "        return torch.max(input_, input_ * 0.01)\n",
    "    \n",
    "    @staticmethod\n",
    "    def backward(ctx, grad_output):\n",
    "        input_, = ctx.saved_tensors # these are the variables which we need to backpropagate the gradient to (only the input)\n",
    "        # the gradient is 1 for positive x's, 0.01 for negative x's\n",
    "        grad_input = torch.ones_like(input_)\n",
    "        grad_input[input_<0] = 0.01\n",
    "        # now, we need to rescale for the grad_output\n",
    "        grad_input *= grad_output\n",
    "        '''\n",
    "        a valid alternative (maybe better performing?):\n",
    "        grad_input = grad_output.clone()\n",
    "        grad_input[input_<0] *= 0.01\n",
    "        '''\n",
    "        return grad_input\n",
    "        "
   ]
  },
  {
   "cell_type": "code",
   "execution_count": 38,
   "metadata": {},
   "outputs": [],
   "source": [
    "fun = LeakyReLU_Fun.apply\n",
    "x = torch.linspace(-5,5,11, requires_grad=True)\n",
    "y = fun(x)\n",
    "z = y.sum()\n",
    "z.backward()"
   ]
  },
  {
   "cell_type": "code",
   "execution_count": 40,
   "metadata": {},
   "outputs": [
    {
     "output_type": "execute_result",
     "data": {
      "text/plain": [
       "tensor([-5., -4., -3., -2., -1.,  0.,  1.,  2.,  3.,  4.,  5.],\n",
       "       requires_grad=True)"
      ]
     },
     "metadata": {},
     "execution_count": 40
    }
   ],
   "source": [
    "x"
   ]
  },
  {
   "cell_type": "code",
   "execution_count": 39,
   "metadata": {},
   "outputs": [
    {
     "output_type": "execute_result",
     "data": {
      "text/plain": [
       "tensor([0.0100, 0.0100, 0.0100, 0.0100, 0.0100, 1.0000, 1.0000, 1.0000, 1.0000,\n",
       "        1.0000, 1.0000])"
      ]
     },
     "metadata": {},
     "execution_count": 39
    }
   ],
   "source": [
    "x.grad"
   ]
  },
  {
   "cell_type": "code",
   "execution_count": null,
   "metadata": {},
   "outputs": [],
   "source": [
    "class LeakyReLU(torch.nn.Module):\n",
    "    def __init__(self):\n",
    "        super().__init__()\n",
    "    \n",
    "    def forward(self, X):\n",
    "        return LeakyReLU_Fun.apply(X)"
   ]
  },
  {
   "cell_type": "code",
   "execution_count": null,
   "metadata": {},
   "outputs": [],
   "source": [
    "LeakyReLU()(x)"
   ]
  },
  {
   "source": [
    "## Building a custom parametric module\n",
    "\n",
    "We wish to extend our Leaky ReLU module to the Parametric ReLU: $\\text{Param_ReLU} = \\max\\{\\alpha\\cdot x, x\\}, \\alpha \\in [0,1)$.\n",
    "\n",
    "![](https://pytorch.org/docs/stable/_images/PReLU.png)\n",
    "\n",
    "Parametric ReLU with $\\alpha=0.25$"
   ],
   "cell_type": "markdown",
   "metadata": {}
  },
  {
   "cell_type": "code",
   "execution_count": null,
   "metadata": {},
   "outputs": [],
   "source": [
    "class ParamReLU_Fun(torch.autograd.Function):\n",
    "    @staticmethod # mind the decorator\n",
    "    def forward(ctx, input_, alpha:float):\n",
    "        assert alpha >= 0 and alpha < 1, f\"alpha should be >= 0 and < 1. Found {alpha}.\"\n",
    "        ctx.save_for_backward(input_) # the parameters that will be involved in the gradient\n",
    "        ctx.alpha = alpha # note that we don't use self.alpha\n",
    "        return torch.max(input_, input_ * alpha)\n",
    "    \n",
    "    @staticmethod\n",
    "    def backward(ctx, grad_output):\n",
    "        input_, = ctx.saved_tensors # these are the variables which we need to backpropagate the gradient to (only the input)\n",
    "        grad_input = grad_output.clone()\n",
    "        grad_input[input_<0] *= ctx.alpha\n",
    "        return grad_input, None"
   ]
  },
  {
   "cell_type": "code",
   "execution_count": null,
   "metadata": {},
   "outputs": [],
   "source": [
    "class ParamReLU(torch.nn.Module):\n",
    "    def __init__(self, alpha):\n",
    "        super().__init__()\n",
    "        self.alpha = alpha\n",
    "    \n",
    "    def forward(self, X):\n",
    "        return ParamReLU_Fun.apply(X, self.alpha)"
   ]
  },
  {
   "cell_type": "code",
   "execution_count": null,
   "metadata": {},
   "outputs": [],
   "source": [
    "prelu = ParamReLU(0.25)\n",
    "x = torch.linspace(-5,5,11, requires_grad=True)\n",
    "y = prelu(x)\n",
    "z = y.sum()\n",
    "z.backward()\n",
    "print(x.grad)"
   ]
  },
  {
   "source": [
    "## Building a custom parametric module, with trainable parameters\n",
    "\n",
    "What if our $\\alpha$ within the parametric ReLU was a trainable parameter? I.e., what if the optimizer could upldate values of $\\alpha$ during training?\n",
    "\n",
    "In this case, we will not have a single parameter $\\alpha$, but a vector $\\mathbf{a}$ of the same size of the input of the function.\n",
    "\n",
    "Moreover, we're not enforcing anymore a condition on $\\mathbf{a}$, so we must extend our Parametric ReLU formula to encompass also the condition in which $\\alpha<0$ or $\\alpha>1$. The formula becomes:\n",
    "\n",
    "$\\text{Parametric_ReLU}(x) = \\max(0, x) + \\alpha \\min(0, x)$"
   ],
   "cell_type": "markdown",
   "metadata": {}
  },
  {
   "cell_type": "code",
   "execution_count": 76,
   "metadata": {},
   "outputs": [],
   "source": [
    "class ParamReLU_Trainable_Fun(torch.autograd.Function):\n",
    "    @staticmethod # mind the decorator\n",
    "    def forward(ctx, input_:torch.Tensor, alpha:torch.Tensor):\n",
    "        # we are not enforcing anymore the condition on alpha\n",
    "        ctx.save_for_backward(input_, alpha) # the parameters that will be involved in the gradient\n",
    "        zeros = torch.zeros_like(input_)\n",
    "        return torch.max(input_, zeros) + alpha * torch.min(input_, zeros)\n",
    "    \n",
    "    @staticmethod\n",
    "    def backward(ctx, grad_output):\n",
    "        input_, alpha, = ctx.saved_tensors # these are the variables which we need to backpropagate the gradient to (only the input)\n",
    "        grad_input = grad_output.clone()\n",
    "        grad_input[input_<0] *= alpha.expand_as(input_)[input_<0]\n",
    "        \n",
    "        # gradient of alpha - note that the funciton param_relu(a) is constant for positive input_ -> zero derivative\n",
    "        grad_alpha = grad_output.clone()\n",
    "        grad_alpha[input_<0] *= input_[input_<0]\n",
    "        grad_alpha[input_>=0] = 0\n",
    "        return grad_input, grad_alpha"
   ]
  },
  {
   "cell_type": "code",
   "execution_count": 77,
   "metadata": {},
   "outputs": [
    {
     "output_type": "execute_result",
     "data": {
      "text/plain": [
       "[<matplotlib.lines.Line2D at 0x7f0764ee2430>]"
      ]
     },
     "metadata": {},
     "execution_count": 77
    },
    {
     "output_type": "display_data",
     "data": {
      "text/plain": "<Figure size 432x288 with 1 Axes>",
      "image/svg+xml": "<?xml version=\"1.0\" encoding=\"utf-8\" standalone=\"no\"?>\n<!DOCTYPE svg PUBLIC \"-//W3C//DTD SVG 1.1//EN\"\n  \"http://www.w3.org/Graphics/SVG/1.1/DTD/svg11.dtd\">\n<!-- Created with matplotlib (https://matplotlib.org/) -->\n<svg height=\"248.518125pt\" version=\"1.1\" viewBox=\"0 0 370.942187 248.518125\" width=\"370.942187pt\" xmlns=\"http://www.w3.org/2000/svg\" xmlns:xlink=\"http://www.w3.org/1999/xlink\">\n <metadata>\n  <rdf:RDF xmlns:cc=\"http://creativecommons.org/ns#\" xmlns:dc=\"http://purl.org/dc/elements/1.1/\" xmlns:rdf=\"http://www.w3.org/1999/02/22-rdf-syntax-ns#\">\n   <cc:Work>\n    <dc:type rdf:resource=\"http://purl.org/dc/dcmitype/StillImage\"/>\n    <dc:date>2021-04-09T15:23:35.446035</dc:date>\n    <dc:format>image/svg+xml</dc:format>\n    <dc:creator>\n     <cc:Agent>\n      <dc:title>Matplotlib v3.3.3, https://matplotlib.org/</dc:title>\n     </cc:Agent>\n    </dc:creator>\n   </cc:Work>\n  </rdf:RDF>\n </metadata>\n <defs>\n  <style type=\"text/css\">*{stroke-linecap:butt;stroke-linejoin:round;}</style>\n </defs>\n <g id=\"figure_1\">\n  <g id=\"patch_1\">\n   <path d=\"M 0 248.518125 \nL 370.942187 248.518125 \nL 370.942187 0 \nL 0 0 \nz\n\" style=\"fill:none;\"/>\n  </g>\n  <g id=\"axes_1\">\n   <g id=\"patch_2\">\n    <path d=\"M 28.942188 224.64 \nL 363.742188 224.64 \nL 363.742188 7.2 \nL 28.942188 7.2 \nz\n\" style=\"fill:#ffffff;\"/>\n   </g>\n   <g id=\"matplotlib.axis_1\">\n    <g id=\"xtick_1\">\n     <g id=\"line2d_1\">\n      <defs>\n       <path d=\"M 0 0 \nL 0 3.5 \n\" id=\"m29c219b483\" style=\"stroke:#000000;stroke-width:0.8;\"/>\n      </defs>\n      <g>\n       <use style=\"stroke:#000000;stroke-width:0.8;\" x=\"74.596733\" xlink:href=\"#m29c219b483\" y=\"224.64\"/>\n      </g>\n     </g>\n     <g id=\"text_1\">\n      <!-- −4 -->\n      <g transform=\"translate(67.225639 239.238437)scale(0.1 -0.1)\">\n       <defs>\n        <path d=\"M 10.59375 35.5 \nL 73.1875 35.5 \nL 73.1875 27.203125 \nL 10.59375 27.203125 \nz\n\" id=\"DejaVuSans-8722\"/>\n        <path d=\"M 37.796875 64.3125 \nL 12.890625 25.390625 \nL 37.796875 25.390625 \nz\nM 35.203125 72.90625 \nL 47.609375 72.90625 \nL 47.609375 25.390625 \nL 58.015625 25.390625 \nL 58.015625 17.1875 \nL 47.609375 17.1875 \nL 47.609375 0 \nL 37.796875 0 \nL 37.796875 17.1875 \nL 4.890625 17.1875 \nL 4.890625 26.703125 \nz\n\" id=\"DejaVuSans-52\"/>\n       </defs>\n       <use xlink:href=\"#DejaVuSans-8722\"/>\n       <use x=\"83.789062\" xlink:href=\"#DejaVuSans-52\"/>\n      </g>\n     </g>\n    </g>\n    <g id=\"xtick_2\">\n     <g id=\"line2d_2\">\n      <g>\n       <use style=\"stroke:#000000;stroke-width:0.8;\" x=\"135.46946\" xlink:href=\"#m29c219b483\" y=\"224.64\"/>\n      </g>\n     </g>\n     <g id=\"text_2\">\n      <!-- −2 -->\n      <g transform=\"translate(128.098366 239.238437)scale(0.1 -0.1)\">\n       <defs>\n        <path d=\"M 19.1875 8.296875 \nL 53.609375 8.296875 \nL 53.609375 0 \nL 7.328125 0 \nL 7.328125 8.296875 \nQ 12.9375 14.109375 22.625 23.890625 \nQ 32.328125 33.6875 34.8125 36.53125 \nQ 39.546875 41.84375 41.421875 45.53125 \nQ 43.3125 49.21875 43.3125 52.78125 \nQ 43.3125 58.59375 39.234375 62.25 \nQ 35.15625 65.921875 28.609375 65.921875 \nQ 23.96875 65.921875 18.8125 64.3125 \nQ 13.671875 62.703125 7.8125 59.421875 \nL 7.8125 69.390625 \nQ 13.765625 71.78125 18.9375 73 \nQ 24.125 74.21875 28.421875 74.21875 \nQ 39.75 74.21875 46.484375 68.546875 \nQ 53.21875 62.890625 53.21875 53.421875 \nQ 53.21875 48.921875 51.53125 44.890625 \nQ 49.859375 40.875 45.40625 35.40625 \nQ 44.1875 33.984375 37.640625 27.21875 \nQ 31.109375 20.453125 19.1875 8.296875 \nz\n\" id=\"DejaVuSans-50\"/>\n       </defs>\n       <use xlink:href=\"#DejaVuSans-8722\"/>\n       <use x=\"83.789062\" xlink:href=\"#DejaVuSans-50\"/>\n      </g>\n     </g>\n    </g>\n    <g id=\"xtick_3\">\n     <g id=\"line2d_3\">\n      <g>\n       <use style=\"stroke:#000000;stroke-width:0.8;\" x=\"196.342188\" xlink:href=\"#m29c219b483\" y=\"224.64\"/>\n      </g>\n     </g>\n     <g id=\"text_3\">\n      <!-- 0 -->\n      <g transform=\"translate(193.160938 239.238437)scale(0.1 -0.1)\">\n       <defs>\n        <path d=\"M 31.78125 66.40625 \nQ 24.171875 66.40625 20.328125 58.90625 \nQ 16.5 51.421875 16.5 36.375 \nQ 16.5 21.390625 20.328125 13.890625 \nQ 24.171875 6.390625 31.78125 6.390625 \nQ 39.453125 6.390625 43.28125 13.890625 \nQ 47.125 21.390625 47.125 36.375 \nQ 47.125 51.421875 43.28125 58.90625 \nQ 39.453125 66.40625 31.78125 66.40625 \nz\nM 31.78125 74.21875 \nQ 44.046875 74.21875 50.515625 64.515625 \nQ 56.984375 54.828125 56.984375 36.375 \nQ 56.984375 17.96875 50.515625 8.265625 \nQ 44.046875 -1.421875 31.78125 -1.421875 \nQ 19.53125 -1.421875 13.0625 8.265625 \nQ 6.59375 17.96875 6.59375 36.375 \nQ 6.59375 54.828125 13.0625 64.515625 \nQ 19.53125 74.21875 31.78125 74.21875 \nz\n\" id=\"DejaVuSans-48\"/>\n       </defs>\n       <use xlink:href=\"#DejaVuSans-48\"/>\n      </g>\n     </g>\n    </g>\n    <g id=\"xtick_4\">\n     <g id=\"line2d_4\">\n      <g>\n       <use style=\"stroke:#000000;stroke-width:0.8;\" x=\"257.214915\" xlink:href=\"#m29c219b483\" y=\"224.64\"/>\n      </g>\n     </g>\n     <g id=\"text_4\">\n      <!-- 2 -->\n      <g transform=\"translate(254.033665 239.238437)scale(0.1 -0.1)\">\n       <use xlink:href=\"#DejaVuSans-50\"/>\n      </g>\n     </g>\n    </g>\n    <g id=\"xtick_5\">\n     <g id=\"line2d_5\">\n      <g>\n       <use style=\"stroke:#000000;stroke-width:0.8;\" x=\"318.087642\" xlink:href=\"#m29c219b483\" y=\"224.64\"/>\n      </g>\n     </g>\n     <g id=\"text_5\">\n      <!-- 4 -->\n      <g transform=\"translate(314.906392 239.238437)scale(0.1 -0.1)\">\n       <use xlink:href=\"#DejaVuSans-52\"/>\n      </g>\n     </g>\n    </g>\n   </g>\n   <g id=\"matplotlib.axis_2\">\n    <g id=\"ytick_1\">\n     <g id=\"line2d_6\">\n      <defs>\n       <path d=\"M 0 0 \nL -3.5 0 \n\" id=\"m641d20fa61\" style=\"stroke:#000000;stroke-width:0.8;\"/>\n      </defs>\n      <g>\n       <use style=\"stroke:#000000;stroke-width:0.8;\" x=\"28.942188\" xlink:href=\"#m641d20fa61\" y=\"204.872727\"/>\n      </g>\n     </g>\n     <g id=\"text_6\">\n      <!-- −8 -->\n      <g transform=\"translate(7.2 208.671946)scale(0.1 -0.1)\">\n       <defs>\n        <path d=\"M 31.78125 34.625 \nQ 24.75 34.625 20.71875 30.859375 \nQ 16.703125 27.09375 16.703125 20.515625 \nQ 16.703125 13.921875 20.71875 10.15625 \nQ 24.75 6.390625 31.78125 6.390625 \nQ 38.8125 6.390625 42.859375 10.171875 \nQ 46.921875 13.96875 46.921875 20.515625 \nQ 46.921875 27.09375 42.890625 30.859375 \nQ 38.875 34.625 31.78125 34.625 \nz\nM 21.921875 38.8125 \nQ 15.578125 40.375 12.03125 44.71875 \nQ 8.5 49.078125 8.5 55.328125 \nQ 8.5 64.0625 14.71875 69.140625 \nQ 20.953125 74.21875 31.78125 74.21875 \nQ 42.671875 74.21875 48.875 69.140625 \nQ 55.078125 64.0625 55.078125 55.328125 \nQ 55.078125 49.078125 51.53125 44.71875 \nQ 48 40.375 41.703125 38.8125 \nQ 48.828125 37.15625 52.796875 32.3125 \nQ 56.78125 27.484375 56.78125 20.515625 \nQ 56.78125 9.90625 50.3125 4.234375 \nQ 43.84375 -1.421875 31.78125 -1.421875 \nQ 19.734375 -1.421875 13.25 4.234375 \nQ 6.78125 9.90625 6.78125 20.515625 \nQ 6.78125 27.484375 10.78125 32.3125 \nQ 14.796875 37.15625 21.921875 38.8125 \nz\nM 18.3125 54.390625 \nQ 18.3125 48.734375 21.84375 45.5625 \nQ 25.390625 42.390625 31.78125 42.390625 \nQ 38.140625 42.390625 41.71875 45.5625 \nQ 45.3125 48.734375 45.3125 54.390625 \nQ 45.3125 60.0625 41.71875 63.234375 \nQ 38.140625 66.40625 31.78125 66.40625 \nQ 25.390625 66.40625 21.84375 63.234375 \nQ 18.3125 60.0625 18.3125 54.390625 \nz\n\" id=\"DejaVuSans-56\"/>\n       </defs>\n       <use xlink:href=\"#DejaVuSans-8722\"/>\n       <use x=\"83.789062\" xlink:href=\"#DejaVuSans-56\"/>\n      </g>\n     </g>\n    </g>\n    <g id=\"ytick_2\">\n     <g id=\"line2d_7\">\n      <g>\n       <use style=\"stroke:#000000;stroke-width:0.8;\" x=\"28.942188\" xlink:href=\"#m641d20fa61\" y=\"178.516364\"/>\n      </g>\n     </g>\n     <g id=\"text_7\">\n      <!-- −6 -->\n      <g transform=\"translate(7.2 182.315582)scale(0.1 -0.1)\">\n       <defs>\n        <path d=\"M 33.015625 40.375 \nQ 26.375 40.375 22.484375 35.828125 \nQ 18.609375 31.296875 18.609375 23.390625 \nQ 18.609375 15.53125 22.484375 10.953125 \nQ 26.375 6.390625 33.015625 6.390625 \nQ 39.65625 6.390625 43.53125 10.953125 \nQ 47.40625 15.53125 47.40625 23.390625 \nQ 47.40625 31.296875 43.53125 35.828125 \nQ 39.65625 40.375 33.015625 40.375 \nz\nM 52.59375 71.296875 \nL 52.59375 62.3125 \nQ 48.875 64.0625 45.09375 64.984375 \nQ 41.3125 65.921875 37.59375 65.921875 \nQ 27.828125 65.921875 22.671875 59.328125 \nQ 17.53125 52.734375 16.796875 39.40625 \nQ 19.671875 43.65625 24.015625 45.921875 \nQ 28.375 48.1875 33.59375 48.1875 \nQ 44.578125 48.1875 50.953125 41.515625 \nQ 57.328125 34.859375 57.328125 23.390625 \nQ 57.328125 12.15625 50.6875 5.359375 \nQ 44.046875 -1.421875 33.015625 -1.421875 \nQ 20.359375 -1.421875 13.671875 8.265625 \nQ 6.984375 17.96875 6.984375 36.375 \nQ 6.984375 53.65625 15.1875 63.9375 \nQ 23.390625 74.21875 37.203125 74.21875 \nQ 40.921875 74.21875 44.703125 73.484375 \nQ 48.484375 72.75 52.59375 71.296875 \nz\n\" id=\"DejaVuSans-54\"/>\n       </defs>\n       <use xlink:href=\"#DejaVuSans-8722\"/>\n       <use x=\"83.789062\" xlink:href=\"#DejaVuSans-54\"/>\n      </g>\n     </g>\n    </g>\n    <g id=\"ytick_3\">\n     <g id=\"line2d_8\">\n      <g>\n       <use style=\"stroke:#000000;stroke-width:0.8;\" x=\"28.942188\" xlink:href=\"#m641d20fa61\" y=\"152.16\"/>\n      </g>\n     </g>\n     <g id=\"text_8\">\n      <!-- −4 -->\n      <g transform=\"translate(7.2 155.959219)scale(0.1 -0.1)\">\n       <use xlink:href=\"#DejaVuSans-8722\"/>\n       <use x=\"83.789062\" xlink:href=\"#DejaVuSans-52\"/>\n      </g>\n     </g>\n    </g>\n    <g id=\"ytick_4\">\n     <g id=\"line2d_9\">\n      <g>\n       <use style=\"stroke:#000000;stroke-width:0.8;\" x=\"28.942188\" xlink:href=\"#m641d20fa61\" y=\"125.803636\"/>\n      </g>\n     </g>\n     <g id=\"text_9\">\n      <!-- −2 -->\n      <g transform=\"translate(7.2 129.602855)scale(0.1 -0.1)\">\n       <use xlink:href=\"#DejaVuSans-8722\"/>\n       <use x=\"83.789062\" xlink:href=\"#DejaVuSans-50\"/>\n      </g>\n     </g>\n    </g>\n    <g id=\"ytick_5\">\n     <g id=\"line2d_10\">\n      <g>\n       <use style=\"stroke:#000000;stroke-width:0.8;\" x=\"28.942188\" xlink:href=\"#m641d20fa61\" y=\"99.447273\"/>\n      </g>\n     </g>\n     <g id=\"text_10\">\n      <!-- 0 -->\n      <g transform=\"translate(15.579688 103.246491)scale(0.1 -0.1)\">\n       <use xlink:href=\"#DejaVuSans-48\"/>\n      </g>\n     </g>\n    </g>\n    <g id=\"ytick_6\">\n     <g id=\"line2d_11\">\n      <g>\n       <use style=\"stroke:#000000;stroke-width:0.8;\" x=\"28.942188\" xlink:href=\"#m641d20fa61\" y=\"73.090909\"/>\n      </g>\n     </g>\n     <g id=\"text_11\">\n      <!-- 2 -->\n      <g transform=\"translate(15.579688 76.890128)scale(0.1 -0.1)\">\n       <use xlink:href=\"#DejaVuSans-50\"/>\n      </g>\n     </g>\n    </g>\n    <g id=\"ytick_7\">\n     <g id=\"line2d_12\">\n      <g>\n       <use style=\"stroke:#000000;stroke-width:0.8;\" x=\"28.942188\" xlink:href=\"#m641d20fa61\" y=\"46.734545\"/>\n      </g>\n     </g>\n     <g id=\"text_12\">\n      <!-- 4 -->\n      <g transform=\"translate(15.579688 50.533764)scale(0.1 -0.1)\">\n       <use xlink:href=\"#DejaVuSans-52\"/>\n      </g>\n     </g>\n    </g>\n    <g id=\"ytick_8\">\n     <g id=\"line2d_13\">\n      <g>\n       <use style=\"stroke:#000000;stroke-width:0.8;\" x=\"28.942188\" xlink:href=\"#m641d20fa61\" y=\"20.378182\"/>\n      </g>\n     </g>\n     <g id=\"text_13\">\n      <!-- 6 -->\n      <g transform=\"translate(15.579688 24.177401)scale(0.1 -0.1)\">\n       <use xlink:href=\"#DejaVuSans-54\"/>\n      </g>\n     </g>\n    </g>\n   </g>\n   <g id=\"line2d_14\">\n    <path clip-path=\"url(#p976c640dcc)\" d=\"M 44.160369 82.974545 \nL 74.596733 86.269091 \nL 105.033097 89.563636 \nL 135.46946 92.858182 \nL 165.905824 96.152727 \nL 196.342188 99.447273 \nL 226.778551 86.269091 \nL 257.214915 73.090909 \nL 287.651278 59.912727 \nL 318.087642 46.734545 \nL 348.524006 33.556364 \n\" style=\"fill:none;stroke:#1f77b4;stroke-linecap:square;stroke-width:1.5;\"/>\n   </g>\n   <g id=\"line2d_15\">\n    <path clip-path=\"url(#p976c640dcc)\" d=\"M 44.160369 214.756364 \nL 74.596733 191.694545 \nL 105.033097 168.632727 \nL 135.46946 145.570909 \nL 165.905824 122.509091 \nL 196.342188 99.447273 \nL 226.778551 86.269091 \nL 257.214915 73.090909 \nL 287.651278 59.912727 \nL 318.087642 46.734545 \nL 348.524006 33.556364 \n\" style=\"fill:none;stroke:#ff7f0e;stroke-linecap:square;stroke-width:1.5;\"/>\n   </g>\n   <g id=\"line2d_16\">\n    <path clip-path=\"url(#p976c640dcc)\" d=\"M 44.160369 17.083636 \nL 74.596733 33.556364 \nL 105.033097 50.029091 \nL 135.46946 66.501818 \nL 165.905824 82.974545 \nL 196.342188 99.447273 \nL 226.778551 86.269091 \nL 257.214915 73.090909 \nL 287.651278 59.912727 \nL 318.087642 46.734545 \nL 348.524006 33.556364 \n\" style=\"fill:none;stroke:#2ca02c;stroke-linecap:square;stroke-width:1.5;\"/>\n   </g>\n   <g id=\"patch_3\">\n    <path d=\"M 28.942188 224.64 \nL 28.942188 7.2 \n\" style=\"fill:none;stroke:#000000;stroke-linecap:square;stroke-linejoin:miter;stroke-width:0.8;\"/>\n   </g>\n   <g id=\"patch_4\">\n    <path d=\"M 363.742188 224.64 \nL 363.742188 7.2 \n\" style=\"fill:none;stroke:#000000;stroke-linecap:square;stroke-linejoin:miter;stroke-width:0.8;\"/>\n   </g>\n   <g id=\"patch_5\">\n    <path d=\"M 28.942188 224.64 \nL 363.742188 224.64 \n\" style=\"fill:none;stroke:#000000;stroke-linecap:square;stroke-linejoin:miter;stroke-width:0.8;\"/>\n   </g>\n   <g id=\"patch_6\">\n    <path d=\"M 28.942188 7.2 \nL 363.742188 7.2 \n\" style=\"fill:none;stroke:#000000;stroke-linecap:square;stroke-linejoin:miter;stroke-width:0.8;\"/>\n   </g>\n  </g>\n </g>\n <defs>\n  <clipPath id=\"p976c640dcc\">\n   <rect height=\"217.44\" width=\"334.8\" x=\"28.942188\" y=\"7.2\"/>\n  </clipPath>\n </defs>\n</svg>\n",
      "image/png": "[encoded data removed]"
     },
     "metadata": {
      "needs_background": "light"
     }
    }
   ],
   "source": [
    "# plot the function for various \"anomalous\" levels of alpha\n",
    "prelu_fun = ParamReLU_Trainable_Fun.apply\n",
    "y1 = prelu_fun(x, torch.full_like(x, -0.25))\n",
    "y2 = prelu_fun(x, torch.full_like(x, 1.75))\n",
    "y3 = prelu_fun(x, torch.full_like(x, -1.25))\n",
    "plt.plot(x.detach().numpy(), y1.detach().numpy())\n",
    "plt.plot(x.detach().numpy(), y2.detach().numpy())\n",
    "plt.plot(x.detach().numpy(), y3.detach().numpy())"
   ]
  },
  {
   "cell_type": "code",
   "execution_count": 78,
   "metadata": {},
   "outputs": [],
   "source": [
    "class ParamReLU_Trainable(torch.nn.Module):\n",
    "    def __init__(self, in_features):\n",
    "        super().__init__()\n",
    "        self.alpha = torch.nn.Parameter(torch.Tensor(in_features))\n",
    "        self.alpha.data.uniform_(0, 1)\n",
    "    \n",
    "    def forward(self, X):\n",
    "        return ParamReLU_Trainable_Fun.apply(X, self.alpha)"
   ]
  },
  {
   "cell_type": "code",
   "execution_count": 79,
   "metadata": {},
   "outputs": [
    {
     "output_type": "stream",
     "name": "stdout",
     "text": [
      "Parameter containing:\ntensor([0.1211, 0.0826, 0.6742, 0.2233, 0.7059, 0.7104, 0.2532, 0.0841, 0.9580,\n        0.0493, 0.5577], requires_grad=True)\n"
     ]
    }
   ],
   "source": [
    "prelu = ParamReLU_Trainable(x.shape)\n",
    "print(prelu.alpha)"
   ]
  },
  {
   "cell_type": "code",
   "execution_count": 80,
   "metadata": {},
   "outputs": [
    {
     "output_type": "stream",
     "name": "stdout",
     "text": [
      "tensor([-0.6056, -0.3306, -2.0226, -0.4465, -0.7059,  0.0000,  1.0000,  2.0000,\n         3.0000,  4.0000,  5.0000], grad_fn=<ParamReLU_Trainable_FunBackward>)\n"
     ]
    }
   ],
   "source": [
    "y = prelu(x)\n",
    "print(y)"
   ]
  },
  {
   "cell_type": "code",
   "execution_count": 81,
   "metadata": {},
   "outputs": [
    {
     "output_type": "stream",
     "name": "stdout",
     "text": [
      "tensor([-10.,  -8.,  -6.,  -4.,  -2.,   0.,   0.,   0.,   0.,   0.,   0.])\ntensor([0.2523, 0.1753, 1.3584, 0.4565, 1.4219, 3.0000, 3.0000, 3.0000, 3.0000,\n        3.0000, 3.0000])\n"
     ]
    }
   ],
   "source": [
    "z = y.sum() * 2\n",
    "z.backward()\n",
    "print(prelu.alpha.grad)\n",
    "print(x.grad)"
   ]
  },
  {
   "source": [
    "Let us put this inside our MLP and see how things work out..."
   ],
   "cell_type": "markdown",
   "metadata": {}
  },
  {
   "cell_type": "code",
   "execution_count": 82,
   "metadata": {},
   "outputs": [],
   "source": [
    "from scripts import train\n",
    "from scripts import mnist"
   ]
  },
  {
   "cell_type": "code",
   "execution_count": 83,
   "metadata": {},
   "outputs": [],
   "source": [
    "class MLP(torch.nn.Module):\n",
    "    def __init__(self):\n",
    "        super().__init__()\n",
    "        self.layers = torch.nn.Sequential(\n",
    "            torch.nn.Flatten(),\n",
    "            torch.nn.Linear(28*28, 16),\n",
    "            ParamReLU_Trainable(16),\n",
    "\n",
    "            torch.nn.BatchNorm1d(num_features=16),\n",
    "            torch.nn.Linear(16, 32),\n",
    "            ParamReLU_Trainable(32),\n",
    "\n",
    "            torch.nn.BatchNorm1d(num_features=32),\n",
    "            torch.nn.Linear(32, 24),\n",
    "            ParamReLU_Trainable(24),\n",
    "\n",
    "            torch.nn.BatchNorm1d(num_features=24),\n",
    "            torch.nn.Linear(24, 10)\n",
    "        )\n",
    "        \n",
    "    def forward(self, X):\n",
    "        return self.layers(X)"
   ]
  },
  {
   "cell_type": "code",
   "execution_count": 84,
   "metadata": {},
   "outputs": [],
   "source": [
    "net = MLP()"
   ]
  },
  {
   "source": [
    "First, let us inspect alphas"
   ],
   "cell_type": "markdown",
   "metadata": {}
  },
  {
   "cell_type": "code",
   "execution_count": 85,
   "metadata": {},
   "outputs": [
    {
     "output_type": "stream",
     "name": "stdout",
     "text": [
      "layers.2.alpha \n Parameter containing:\ntensor([0.0604, 0.7725, 0.9243, 0.8475, 0.2735, 0.5951, 0.7301, 0.5049, 0.5192,\n        0.9736, 0.3689, 0.5130, 0.7367, 0.0038, 0.3016, 0.0847],\n       requires_grad=True) \n\nlayers.5.alpha \n Parameter containing:\ntensor([0.3525, 0.4532, 0.6477, 0.6796, 0.4021, 0.7862, 0.2684, 0.0325, 0.9922,\n        0.5411, 0.4065, 0.8873, 0.0843, 0.9704, 0.4443, 0.7644, 0.0823, 0.0850,\n        0.0638, 0.7565, 0.5790, 0.3540, 0.5743, 0.6569, 0.9876, 0.6592, 0.7747,\n        0.0544, 0.2685, 0.7764, 0.4674, 0.8546], requires_grad=True) \n\nlayers.8.alpha \n Parameter containing:\ntensor([0.8991, 0.6584, 0.0964, 0.7347, 0.0137, 0.4163, 0.8457, 0.8000, 0.4135,\n        0.9752, 0.1129, 0.2621, 0.7205, 0.1210, 0.3668, 0.7474, 0.4876, 0.1266,\n        0.6933, 0.0639, 0.3908, 0.0077, 0.4417, 0.5983], requires_grad=True) \n\n"
     ]
    }
   ],
   "source": [
    "def inspect_alphas(net):\n",
    "    for name, param in net.named_parameters():\n",
    "        if \"alpha\" in name:\n",
    "            print(name, \"\\n\", param, \"\\n\")\n",
    "inspect_alphas(net)"
   ]
  },
  {
   "source": [
    "Then, train our network..."
   ],
   "cell_type": "markdown",
   "metadata": {}
  },
  {
   "cell_type": "code",
   "execution_count": 86,
   "metadata": {
    "tags": []
   },
   "outputs": [
    {
     "output_type": "stream",
     "name": "stdout",
     "text": [
      "Epoch 1 --- learning rate 0.00100\n",
      "Epoch 1 completed. Loss - total: 37528.09336566925 - average: 0.6254682227611542; Performance: 0.8556\n",
      "Epoch 2 --- learning rate 0.00100\n",
      "Epoch 2 completed. Loss - total: 15721.543184280396 - average: 0.2620257197380066; Performance: 0.9292\n",
      "Epoch 3 --- learning rate 0.00100\n",
      "Epoch 3 completed. Loss - total: 11931.177946090698 - average: 0.1988529657681783; Performance: 0.94285\n",
      "Epoch 4 --- learning rate 0.00100\n",
      "Epoch 4 completed. Loss - total: 10047.797733783722 - average: 0.16746329556306203; Performance: 0.95115\n",
      "Epoch 5 --- learning rate 0.00100\n",
      "Epoch 5 completed. Loss - total: 8774.140967845917 - average: 0.14623568279743196; Performance: 0.9568\n"
     ]
    },
    {
     "output_type": "execute_result",
     "data": {
      "text/plain": [
       "(8774.140967845917, 0.9568)"
      ]
     },
     "metadata": {},
     "execution_count": 86
    }
   ],
   "source": [
    "optim = torch.optim.Adam(net.parameters())\n",
    "loss = torch.nn.CrossEntropyLoss()\n",
    "num_epochs = 5\n",
    "trainloader, testloader, _, _ = mnist.get_data()\n",
    "train.train_model(net, trainloader, loss, optim, num_epochs)"
   ]
  },
  {
   "cell_type": "code",
   "execution_count": 87,
   "metadata": {},
   "outputs": [
    {
     "output_type": "stream",
     "name": "stdout",
     "text": [
      "TESTING - loss -- - performance 0.9644\n"
     ]
    },
    {
     "output_type": "execute_result",
     "data": {
      "text/plain": [
       "(None, 0.9644)"
      ]
     },
     "metadata": {},
     "execution_count": 87
    }
   ],
   "source": [
    "train.test_model(net, testloader)"
   ]
  },
  {
   "source": [
    "Actually, our model is not performing bad at all.\n",
    "\n",
    "Let us check the values of the $\\alpha$s after training:"
   ],
   "cell_type": "markdown",
   "metadata": {}
  },
  {
   "cell_type": "code",
   "execution_count": 88,
   "metadata": {},
   "outputs": [
    {
     "output_type": "stream",
     "name": "stdout",
     "text": [
      "layers.2.alpha \n Parameter containing:\ntensor([ 0.0708,  0.6065,  0.9148,  1.0027, -0.1245,  0.5505,  0.8336,  0.2537,\n         0.5778,  0.6238,  0.2615,  0.3071,  0.3740,  0.0476,  0.1439,  0.2131],\n       device='cuda:0', requires_grad=True) \n\nlayers.5.alpha \n Parameter containing:\ntensor([ 0.0804,  0.1619,  0.3887,  0.3792,  0.0809,  0.5028,  0.1617, -0.1083,\n         0.8685,  0.1645, -0.0507,  0.6025, -0.0516,  0.1714,  0.2229,  0.5491,\n         0.0339,  0.0690, -0.2053,  0.6816,  0.1938,  0.3507,  0.5370,  0.2937,\n         0.8534,  0.7514,  0.3164, -0.0669,  0.1176,  1.0896,  0.5157,  0.2972],\n       device='cuda:0', requires_grad=True) \n\nlayers.8.alpha \n Parameter containing:\ntensor([ 0.6748,  0.7048,  0.0569,  0.5290, -0.2156,  0.4037,  0.7475,  0.8153,\n         0.1236,  0.8415,  0.1510,  0.3700,  0.9145,  0.2305,  0.0718,  0.4609,\n         0.5782,  0.1087,  0.2809, -0.0821,  0.6920, -0.0487,  0.5023,  0.6003],\n       device='cuda:0', requires_grad=True) \n\n"
     ]
    }
   ],
   "source": [
    "inspect_alphas(net)"
   ]
  }
 ]
}