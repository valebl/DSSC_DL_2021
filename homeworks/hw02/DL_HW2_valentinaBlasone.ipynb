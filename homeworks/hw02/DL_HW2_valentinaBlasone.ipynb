{
 "cells": [
  {
   "cell_type": "markdown",
   "id": "academic-northeast",
   "metadata": {},
   "source": [
    "# Homework 02 - Valentina Blasone\n",
    "\n",
    "## Deep Learning - A.A. 2020/2021"
   ]
  },
  {
   "cell_type": "markdown",
   "id": "rolled-schedule",
   "metadata": {},
   "source": [
    ">Reconstruct in PyTorch the first experiment in [Learning representations by back-propagating errors](https://www.nature.com/articles/323533a0) with learning rule in eq.8 (gradient descent without momentum)\n",
    ">  - Try to be as close as possible to the original protocol, except for what regards the learning rule\n",
    ">  - Read the paper, if you did not do it yet (don’t worry if you don’t understand the other experiments in detail)\n",
    ">  - Create the data, the model and everything is needed (do not use dataloaders if you don’t know how yet how they work)\n",
    ">  - Train the model\n",
    ">  - Inspect the weights you obtained and check if they provide a solution to the problem\n",
    ">  - Compare the solution to the solution reported in the paper\n"
   ]
  },
  {
   "cell_type": "markdown",
   "id": "focused-guyana",
   "metadata": {},
   "source": [
    "**Problem statement**\n",
    "\n",
    "The objective is to implement a network able to detect mirror symmetry about the centre point in the input vectors. More specifically, input vectors are 6-values binary 1D-arrays, i.e., each value of the vectors can wither be $0$ or $1$."
   ]
  },
  {
   "cell_type": "markdown",
   "id": "south-depth",
   "metadata": {},
   "source": [
    "**Designing the MLP**\n",
    "\n",
    "From the specifics contained in the paper, we need to design a MLP with:\n",
    "* Input layer with 6 units\n",
    "* 1 hidden layers with 2 units\n",
    "* Output layer with 1 units\n",
    "\n",
    "\n",
    "* Sigmoid as activation function for the hidden layer and for the output layer\n",
    "* weights initialized as random and uniformly distributed between -0.3 and 0.3\n",
    "* Mean squared error loss\n"
   ]
  },
  {
   "cell_type": "markdown",
   "id": "infinite-agency",
   "metadata": {},
   "source": [
    "**Creating the data**\n",
    "\n",
    "The dataset will consist in all the possible configurations that the 6-values binary vectors can assume, thus $2^6=64$ configurations. To do so we can rely on a function in the standard library, called `ipertools.product`, used in the following way:"
   ]
  },
  {
   "cell_type": "code",
   "execution_count": 1,
   "id": "macro-apple",
   "metadata": {},
   "outputs": [
    {
     "data": {
      "text/plain": [
       "torch.Size([64, 6])"
      ]
     },
     "execution_count": 1,
     "metadata": {},
     "output_type": "execute_result"
    }
   ],
   "source": [
    "import itertools\n",
    "import torch\n",
    "dataset = torch.Tensor(list(itertools.product([0.,1.],repeat=6)))\n",
    "dataset.shape"
   ]
  },
  {
   "cell_type": "markdown",
   "id": "rolled-concord",
   "metadata": {},
   "source": [
    "We need also to create thecorreponding y vector, in which we decide to identify a \"mirror-symmetric\" vector with the value of $1$ and a \"non mirror-symmetric\" vector with a value of $0$. We can implement a function able to do do so."
   ]
  },
  {
   "cell_type": "code",
   "execution_count": 2,
   "id": "brutal-appendix",
   "metadata": {},
   "outputs": [],
   "source": [
    "def flip_tensor(x):\n",
    "    return torch.Tensor([x[i-1] for i in range(len(x), 0, -1)])\n",
    "\n",
    "def check_mirror_symmetry(x):\n",
    "    assert len(x) == 6\n",
    "    x1 = x[0:len(x)//2]\n",
    "    x2 = x[len(x)//2:len(x)]\n",
    "    if torch.all(x1.eq(flip_tensor(x2))):\n",
    "        y = 1\n",
    "        #print(f'x: {x}, y: {y}') # to check it\n",
    "    else:\n",
    "        y = 0\n",
    "        \n",
    "    return y"
   ]
  },
  {
   "cell_type": "code",
   "execution_count": 3,
   "id": "eleven-world",
   "metadata": {},
   "outputs": [],
   "source": [
    "y = torch.Tensor([[check_mirror_symmetry(x)] for x in dataset])"
   ]
  },
  {
   "cell_type": "markdown",
   "id": "entire-clone",
   "metadata": {},
   "source": [
    "**Create the model**"
   ]
  },
  {
   "cell_type": "code",
   "execution_count": 4,
   "id": "elegant-villa",
   "metadata": {},
   "outputs": [],
   "source": [
    "# class for our MLP\n",
    "class MLP(torch.nn.Module):\n",
    "    def __init__(self):\n",
    "        super().__init__()\n",
    "        self.layer1 = torch.nn.Linear(in_features=6, out_features=2, bias=True)\n",
    "        self.layer2 = torch.nn.Linear(in_features=2, out_features=1, bias=True)\n",
    "        \n",
    "    def forward(self, X):\n",
    "        out = self.layer1(X)\n",
    "        out = torch.sigmoid(out)\n",
    "        out = self.layer2(out)\n",
    "        out = torch.sigmoid(out)\n",
    "        return out"
   ]
  },
  {
   "cell_type": "code",
   "execution_count": 5,
   "id": "tired-coral",
   "metadata": {},
   "outputs": [
    {
     "data": {
      "text/plain": [
       "MLP(\n",
       "  (layer1): Linear(in_features=6, out_features=2, bias=True)\n",
       "  (layer2): Linear(in_features=2, out_features=1, bias=True)\n",
       ")"
      ]
     },
     "execution_count": 5,
     "metadata": {},
     "output_type": "execute_result"
    }
   ],
   "source": [
    "model = MLP()\n",
    "model"
   ]
  },
  {
   "cell_type": "code",
   "execution_count": 6,
   "id": "western-allah",
   "metadata": {},
   "outputs": [
    {
     "name": "stdout",
     "output_type": "stream",
     "text": [
      "=================================================================\n",
      "Layer (type:depth-idx)                   Param #\n",
      "=================================================================\n",
      "├─Linear: 1-1                            14\n",
      "├─Linear: 1-2                            3\n",
      "=================================================================\n",
      "Total params: 17\n",
      "Trainable params: 17\n",
      "Non-trainable params: 0\n",
      "=================================================================\n"
     ]
    }
   ],
   "source": [
    "from torchsummary import summary\n",
    "_ = summary(model)"
   ]
  },
  {
   "cell_type": "markdown",
   "id": "nutritional-tennessee",
   "metadata": {},
   "source": [
    "**Initialize the weights**"
   ]
  },
  {
   "cell_type": "code",
   "execution_count": 7,
   "id": "furnished-lying",
   "metadata": {},
   "outputs": [],
   "source": [
    "bound = 0.3\n",
    "for param in model.parameters():\n",
    "    torch.nn.init.uniform_(param, a=-bound, b=bound)"
   ]
  },
  {
   "cell_type": "markdown",
   "id": "assured-stanford",
   "metadata": {},
   "source": [
    "**Performance Measures**"
   ]
  },
  {
   "cell_type": "code",
   "execution_count": 8,
   "id": "understanding-reverse",
   "metadata": {},
   "outputs": [],
   "source": [
    "class AverageMeter(object):\n",
    "    def __init__(self):\n",
    "        self.reset()\n",
    "        \n",
    "    def reset(self):\n",
    "        self.val = 0\n",
    "        self.avg = 0\n",
    "        self.sum = 0\n",
    "        self.count = 0\n",
    "        \n",
    "    def update(self, val, n=1):\n",
    "        self.val = val\n",
    "        self.sum += val * n\n",
    "        self.count += n\n",
    "        self.avg = self.sum / self.count"
   ]
  },
  {
   "cell_type": "code",
   "execution_count": 9,
   "id": "marked-workshop",
   "metadata": {},
   "outputs": [],
   "source": [
    "def accuracy(y_hat, y):\n",
    "    '''\n",
    "    y_hat is the model output - a Tensor of shape (n x num_classes)\n",
    "    y is the ground truth\n",
    "    '''\n",
    "    classes_prediction = torch.round(y_hat)\n",
    "    match_ground_truth = classes_prediction == y # tensor of booleans\n",
    "    correct_matches = match_ground_truth.sum()\n",
    "    return (correct_matches / y_hat.shape[0]).item()"
   ]
  },
  {
   "cell_type": "markdown",
   "id": "intelligent-treasury",
   "metadata": {},
   "source": [
    "**Training Loop**"
   ]
  },
  {
   "cell_type": "code",
   "execution_count": 10,
   "id": "utility-right",
   "metadata": {},
   "outputs": [],
   "source": [
    "def train_epoch(model, data, loss_fn, optimizer, loss_meter, accuracy_meter, loss_vec, acc_vec):\n",
    "    rand_idx = torch.randperm(64)\n",
    "    data_rnd = data[rand_idx]\n",
    "    indices_x = torch.tensor([[0,1,2,3,4,5] for i in range(64)])\n",
    "    indices_y = torch.tensor([[6] for i in range(64)])\n",
    "    x = data_rnd.gather(1, indices_x)\n",
    "    y = data_rnd.gather(1,indices_y)\n",
    "    optimizer.zero_grad()    # 1. reset the gradients previously accumulated by the optimizer\n",
    "    y_hat = model(x)         # 2. get the predictions from the current state of the model (forward pass) \n",
    "    loss = loss_fn(y_hat, y) # 3. calculate the loss on the current mini-batch\n",
    "    loss.backward()          # 4. execute the backward pass given the current loss\n",
    "    optimizer.step()         # 5. update the value of the params\n",
    "    acc = accuracy(y_hat, y) # 6. calculate the accuracy for this mini-batch\n",
    "    loss_meter.update(val=loss.item(), n=x.shape[0])  # 7. update the loss and accuracy AverageMeter\n",
    "    accuracy_meter.update(val=acc, n=x.shape[0])\n",
    "    loss_vec.append(loss.item())\n",
    "    acc_vec.append(acc)\n",
    "\n",
    "def train_model(model, data, loss_fn, optimizer, num_epochs, loss_vec, acc_vec):\n",
    "    model.train()\n",
    "    for epoch in range(num_epochs):\n",
    "        loss_meter = AverageMeter()\n",
    "        accuracy_meter = AverageMeter()\n",
    "        train_epoch(model, data, loss_fn, optimizer, loss_meter, accuracy_meter, loss_vec, acc_vec)\n",
    "\n",
    "\n",
    "    return loss_meter.sum, accuracy_meter.avg, loss_vec, acc_vec"
   ]
  },
  {
   "cell_type": "code",
   "execution_count": 11,
   "id": "powerful-joining",
   "metadata": {},
   "outputs": [
    {
     "name": "stdout",
     "output_type": "stream",
     "text": [
      "Training completed - final accuracy 0.875 and loss 7.00205659866333\n"
     ]
    }
   ],
   "source": [
    "import random\n",
    "model = MLP()\n",
    "learn_rate = 0.1 # for SGD\n",
    "num_epochs = 1425\n",
    "\n",
    "loss_fn = torch.nn.functional.mse_loss\n",
    "optimizer = torch.optim.SGD(model.parameters(), lr=learn_rate)\n",
    "\n",
    "loss_vec = []\n",
    "acc_vec = []\n",
    "\n",
    "data = torch.cat((dataset,y),1)\n",
    "\n",
    "loss, acc, loss_vec, acc_vec = train_model(model, data, loss_fn,optimizer, num_epochs, loss_vec, acc_vec)\n",
    "print(f\"Training completed - final accuracy {acc} and loss {loss}\")"
   ]
  },
  {
   "cell_type": "code",
   "execution_count": 12,
   "id": "aging-bleeding",
   "metadata": {},
   "outputs": [
    {
     "data": {
      "image/png": "[encoded data removed]",
      "text/plain": [
       "<Figure size 864x288 with 2 Axes>"
      ]
     },
     "metadata": {
      "needs_background": "light"
     },
     "output_type": "display_data"
    }
   ],
   "source": [
    "import matplotlib.pyplot as plt\n",
    "# plot\n",
    "fig, axes = plt.subplots(1,2, figsize=(12,4))\n",
    "_ = axes[0].plot(loss_vec, 'r')\n",
    "_ = axes[0].set_xlabel(\"Epoch\")\n",
    "_ = axes[0].set_ylabel(\"Loss\")\n",
    "_ = axes[0].set_title(\"Loss\")\n",
    "_ = axes[1].plot(acc_vec[10:],'r')\n",
    "_ = axes[1].set_xlabel(\"Epoch\")\n",
    "_ = axes[1].set_ylabel(\"Accuracy\")\n",
    "_ = axes[1].set_title(\"Accuracy\")"
   ]
  },
  {
   "cell_type": "code",
   "execution_count": 13,
   "id": "terminal-butter",
   "metadata": {},
   "outputs": [
    {
     "name": "stdout",
     "output_type": "stream",
     "text": [
      "layer1.weight tensor([[ 0.0282,  0.0681,  0.1786, -0.0471,  0.2587,  0.0032],\n",
      "        [ 0.0990,  0.4042, -0.0537,  0.4022, -0.0514,  0.2200]])\n",
      "layer1.bias tensor([0.1564, 0.3804])\n",
      "layer2.weight tensor([[-0.5430, -0.8906]])\n",
      "layer2.bias tensor([-0.9968])\n"
     ]
    }
   ],
   "source": [
    "for param_name, param in model.state_dict().items():\n",
    "    print(param_name, param)"
   ]
  },
  {
   "cell_type": "markdown",
   "id": "polyphonic-elizabeth",
   "metadata": {},
   "source": [
    "Parameters seems not to reflect the characteristics found in the paper. I didn't have time to think much about it before the deadline, but I will do it :)"
   ]
  }
 ],
 "metadata": {
  "kernelspec": {
   "display_name": "torchenv",
   "language": "python",
   "name": "torchenv"
  },
  "language_info": {
   "codemirror_mode": {
    "name": "ipython",
    "version": 3
   },
   "file_extension": ".py",
   "mimetype": "text/x-python",
   "name": "python",
   "nbconvert_exporter": "python",
   "pygments_lexer": "ipython3",
   "version": "3.9.2"
  }
 },
 "nbformat": 4,
 "nbformat_minor": 5
}
