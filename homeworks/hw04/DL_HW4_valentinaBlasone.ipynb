{
 "cells": [
  {
   "cell_type": "markdown",
   "source": [
    "# Homework 04 - Valentina Blasone\r\n",
    "\r\n",
    "## Deep Learning - A.A. 2020/2021"
   ],
   "metadata": {}
  },
  {
   "cell_type": "markdown",
   "source": [
    "> 1. Now that you have all the tools to train an MLP with high performance on MNIST, try reaching 0-loss on the training data (with a small epsilon, e.g. 99.99% training performance -- don't worry if you overfit!).\r\n",
    "The implementation is completely up to you. You just need to keep it an MLP without using fancy layers (e.g., keep the `Linear` layers, don't use `Conv1d` or something like this, don't use attention). You are free to use any LR scheduler or optimizer, any one of batchnorm/groupnorm, regularization methods... If you use something we haven't seen during lectures, please motivate your choice and explain (as briefly as possible) how it works.\r\n",
    "> 2. Try reaching 0-loss on the training data with **permuted labels**. Assess the model on the test data (without permuted labels) and comment. Help yourself with [3](https://arxiv.org/abs/1611.03530).\r\n",
    "*Tip*: To permute the labels, act on the `trainset.targets` with an appropriate torch function.\r\n",
    "Then, you can pass this \"permuted\" `Dataset` to a `DataLoader` like so: `trainloader_permuted = torch.utils.data.DataLoader(trainset_permuted, batch_size=batch_size_train, shuffle=True)`. You can now use this `DataLoader` inside the training function.\r\n",
    "Additional view for motivating this exercise: [\"The statistical significance perfect linear separation\", by Jared Tanner (Oxford U.)](https://www.youtube.com/watch?v=vl2QsVWEqdA)."
   ],
   "metadata": {}
  },
  {
   "cell_type": "code",
   "execution_count": 1,
   "source": [
    "import torch\r\n",
    "import os\r\n",
    "from torch import nn\r\n",
    "from matplotlib import pyplot as plt\r\n",
    "\r\n",
    "from scripts import mnist\r\n",
    "from scripts.train_utils import accuracy, AverageMeter"
   ],
   "outputs": [],
   "metadata": {}
  },
  {
   "cell_type": "markdown",
   "source": [
    "## 1"
   ],
   "metadata": {}
  },
  {
   "cell_type": "code",
   "execution_count": 4,
   "source": [
    "class MLP(nn.Module):\r\n",
    "    def __init__(self):\r\n",
    "        super().__init__()\r\n",
    "        self.flat = nn.Flatten()\r\n",
    "        self.h1 = nn.Linear(28*28, 16)\r\n",
    "        self.h2 = nn.Linear(16, 32)\r\n",
    "        self.h3 = nn.Linear(32, 24)\r\n",
    "        self.out = nn.Linear(24, 10)\r\n",
    "    \r\n",
    "    def forward(self, X, activ_hidden=nn.functional.relu):\r\n",
    "        out = self.flat(X)\r\n",
    "        out = activ_hidden(self.h1(out))\r\n",
    "        out = activ_hidden(self.h2(out))\r\n",
    "        out = activ_hidden(self.h3(out))\r\n",
    "        out = self.out(out)\r\n",
    "        return out"
   ],
   "outputs": [],
   "metadata": {}
  },
  {
   "cell_type": "code",
   "execution_count": 12,
   "source": [
    "def train_epoch(model, dataloader, loss_fn, optimizer, loss_meter, performance_meter, performance, device): # note: I've added a generic performance to replace accuracy and the device\r\n",
    "    for X, y in dataloader:\r\n",
    "        # TRANSFER X AND y TO GPU IF SPECIFIED\r\n",
    "        X = X.to(device)\r\n",
    "        y = y.to(device)\r\n",
    "        # ... like last time\r\n",
    "        optimizer.zero_grad() \r\n",
    "        y_hat = model(X)\r\n",
    "        loss = loss_fn(y_hat, y)\r\n",
    "        loss.backward()\r\n",
    "        optimizer.step()\r\n",
    "        acc = performance(y_hat, y)\r\n",
    "        loss_meter.update(val=loss.item(), n=X.shape[0])\r\n",
    "        performance_meter.update(val=acc, n=X.shape[0])\r\n",
    "\r\n",
    "def test_model(model, dataloader, performance=accuracy, loss_fn=None, device=None):\r\n",
    "    # establish device\r\n",
    "    if device is None:\r\n",
    "        device = \"cuda:0\" if torch.cuda.is_available() else \"cpu\"\r\n",
    "\r\n",
    "    # create an AverageMeter for the loss if passed\r\n",
    "    if loss_fn is not None:\r\n",
    "        loss_meter = AverageMeter()\r\n",
    "    \r\n",
    "    performance_meter = AverageMeter()\r\n",
    "\r\n",
    "    model.to(device)\r\n",
    "    model.eval()\r\n",
    "    with torch.no_grad():\r\n",
    "        for X, y in dataloader:\r\n",
    "            X = X.to(device)\r\n",
    "            y = y.to(device)\r\n",
    "\r\n",
    "            y_hat = model(X)\r\n",
    "            loss = loss_fn(y_hat, y) if loss_fn is not None else None\r\n",
    "            acc = performance(y_hat, y)\r\n",
    "            if loss_fn is not None:\r\n",
    "                loss_meter.update(loss.item(), X.shape[0])\r\n",
    "            performance_meter.update(acc, X.shape[0])\r\n",
    "    # get final performances\r\n",
    "    fin_loss = loss_meter.sum if loss_fn is not None else None\r\n",
    "    fin_perf = performance_meter.avg\r\n",
    "    print(f\"TESTING - loss {fin_loss if fin_loss is not None else '--'} - performance {fin_perf}\")\r\n",
    "    return fin_loss, fin_perf"
   ],
   "outputs": [],
   "metadata": {}
  },
  {
   "cell_type": "code",
   "execution_count": null,
   "source": [
    "def train_model(model, dataloader, loss_fn, optimizer, num_epochs, alpha=None, k=None, checkpoint_loc=None, checkpoint_name=\"checkpoint.pt\", performance=accuracy, lr_scheduler=None, epoch_start_scheduler=1, device=None):\r\n",
    "    # added lr_scheduler\r\n",
    "\r\n",
    "    # create the folder for the checkpoints (if it's not None)\r\n",
    "    if checkpoint_loc is not None:\r\n",
    "        os.makedirs(checkpoint_loc, exist_ok=True)\r\n",
    "    \r\n",
    "    # establish device\r\n",
    "    if device is None:\r\n",
    "        device = \"cuda:0\" if torch.cuda.is_available() else \"cpu\"\r\n",
    "    print(f\"Training on {device}\")   \r\n",
    "\r\n",
    "    if alpha is not None and k is None:\r\n",
    "        print(\"Training with early stopping: GL\")\r\n",
    "\r\n",
    "    if k is not None:\r\n",
    "        print(\"Training with early stopping: PL\")\r\n",
    "        j = 1\r\n",
    "        strip = []\r\n",
    "    \r\n",
    "    model.to(device)\r\n",
    "    model.train()\r\n",
    "\r\n",
    "    # epoch loop\r\n",
    "    for epoch in range(num_epochs):\r\n",
    "\r\n",
    "        loss_meter = AverageMeter()\r\n",
    "        performance_meter = AverageMeter()\r\n",
    "\r\n",
    "        # added print for LR\r\n",
    "        print(f\"Epoch {epoch+1} --- learning rate {optimizer.param_groups[0]['lr']:.5f}\")\r\n",
    "\r\n",
    "        train_epoch(model, dataloader, loss_fn, optimizer, loss_meter, performance_meter, performance)\r\n",
    "\r\n",
    "        print(f\"Epoch {epoch+1} completed. Loss - total: {loss_meter.sum} - average: {loss_meter.avg}; Performance: {performance_meter.avg}\")\r\n",
    "\r\n",
    "        # produce checkpoint dictionary -- but only if the name and folder of the checkpoint are not None\r\n",
    "        if checkpoint_name is not None and checkpoint_loc is not None:\r\n",
    "            checkpoint_dict = {\r\n",
    "                \"parameters\": model.state_dict(),\r\n",
    "                \"optimizer\": optimizer.state_dict(),\r\n",
    "                \"epoch\": epoch\r\n",
    "            }\r\n",
    "            torch.save(checkpoint_dict, os.path.join(checkpoint_loc, checkpoint_name))\r\n",
    "        \r\n",
    "        if lr_scheduler is not None:\r\n",
    "            if epoch >= epoch_start_scheduler:\r\n",
    "                lr_scheduler.step()\r\n",
    "            # or you can use a MultiStepLR with milestones=[6, 11] thus deleting the `if` construct for the epoch\r\n",
    "\r\n",
    "        if alpha is not None or k is not None:\r\n",
    "            E_va, _ = test_model(model, testloader, loss_fn=loss_fn)\r\n",
    "            E_opt = E_va if E_opt is None else min(E_opt, E_va)\r\n",
    "            GL = 100 * (E_va/E_opt - 1)\r\n",
    "            if k is None and GL > alpha:\r\n",
    "                print(f\"GL = {GL} > {alpha} - Stop training\")\r\n",
    "                return loss_meter.sum, performance_meter.avg\r\n",
    "            \r\n",
    "            if k is not None:\r\n",
    "                strip.append(loss_meter.sum)\r\n",
    "                if j % k != 0:\r\n",
    "                    j += 1\r\n",
    "                else:\r\n",
    "                    print(GL, strip, sum(strip), min(strip))\r\n",
    "                    Pk = 1000 * (sum(strip)/(k*min(strip)) - 1)\r\n",
    "                    if GL/Pk > alpha:\r\n",
    "                        print(f\"GL/Pk = {GL/Pk} > {alpha} - Stop training\")\r\n",
    "                        return loss_meter.sum, performance_meter.avg\r\n",
    "                    else:\r\n",
    "                        print(f\"GL/Pk = {GL/Pk} < {alpha} - Continue training\")\r\n",
    "                        j = 1\r\n",
    "                        strip = []         \r\n",
    "\r\n",
    "    return loss_meter.sum, performance_meter.avg"
   ],
   "outputs": [],
   "metadata": {}
  },
  {
   "cell_type": "code",
   "execution_count": null,
   "source": [
    "def train_model(model, dataloader, loss_fn, optimizer, num_epochs, alpha=None, k=None, performance=accuracy, device=None): # note: I've added a generic performance to replace accuracy and an object where to store the trajectory and the device on which to run our training\r\n",
    "\r\n",
    "    # establish device\r\n",
    "    if device is None:\r\n",
    "        device = \"cuda:0\" if torch.cuda.is_available() else \"cpu\"\r\n",
    "    print(f\"Training on {device}\")\r\n",
    "    \r\n",
    "    if alpha is not None and k is None:\r\n",
    "        print(\"Training with early stopping: GL\")\r\n",
    "\r\n",
    "    if k is not None:\r\n",
    "        print(\"Training with early stopping: PL\")\r\n",
    "        j = 1\r\n",
    "        strip = []\r\n",
    "\r\n",
    "    model.to(device)\r\n",
    "    model.train()\r\n",
    "\r\n",
    "    E_opt = None\r\n",
    "\r\n",
    "    # epoch loop\r\n",
    "    for epoch in range(num_epochs):\r\n",
    "        loss_meter = AverageMeter()\r\n",
    "        performance_meter = AverageMeter()\r\n",
    "\r\n",
    "        train_epoch(model, dataloader, loss_fn, optimizer, loss_meter, performance_meter, performance, device, l1_rate)\r\n",
    "\r\n",
    "        print(f\"Epoch {epoch+1} completed. Loss - total: {loss_meter.sum} - average: {loss_meter.avg}; Performance: {performance_meter.avg}\")\r\n",
    "\r\n",
    "        if alpha is not None or k is not None:\r\n",
    "            E_va, _ = test_model(model, testloader, loss_fn=loss_fn)\r\n",
    "            E_opt = E_va if E_opt is None else min(E_opt, E_va)\r\n",
    "            GL = 100 * (E_va/E_opt - 1)\r\n",
    "            if k is None and GL > alpha:\r\n",
    "                print(f\"GL = {GL} > {alpha} - Stop training\")\r\n",
    "                return loss_meter.sum, performance_meter.avg\r\n",
    "            \r\n",
    "            if k is not None:\r\n",
    "                strip.append(loss_meter.sum)\r\n",
    "                if j % k != 0:\r\n",
    "                    j += 1\r\n",
    "                else:\r\n",
    "                    print(GL, strip, sum(strip), min(strip))\r\n",
    "                    Pk = 1000 * (sum(strip)/(k*min(strip)) - 1)\r\n",
    "                    if GL/Pk > alpha:\r\n",
    "                        print(f\"GL/Pk = {GL/Pk} > {alpha} - Stop training\")\r\n",
    "                        return loss_meter.sum, performance_meter.avg\r\n",
    "                    else:\r\n",
    "                        print(f\"GL/Pk = {GL/Pk} < {alpha} - Continue training\")\r\n",
    "                        j = 1\r\n",
    "                        strip = []                       \r\n",
    "\r\n",
    "    return loss_meter.sum, performance_meter.avg"
   ],
   "outputs": [],
   "metadata": {}
  },
  {
   "cell_type": "code",
   "execution_count": 15,
   "source": [
    "minibatch_size_train = 256\r\n",
    "minibatch_size_test = 512\r\n",
    "\r\n",
    "trainloader, testloader, trainset, testset = mnist.get_data(batch_size_train=minibatch_size_test, batch_size_test=minibatch_size_test)\r\n",
    "\r\n",
    "learn_rate = 0.1\r\n",
    "num_epochs = 15\r\n",
    "\r\n",
    "l1_rate = 1e-05\r\n",
    "\r\n",
    "model = MLP()\r\n",
    "loss_fn = nn.CrossEntropyLoss()\r\n",
    "\r\n",
    "\r\n",
    "optimizer = torch.optim.SGD(model.parameters(), lr=learn_rate)\r\n",
    "scheduler = torch.optim.lr_scheduler.StepLR(optimizer, step_size=5, gamma=.1)"
   ],
   "outputs": [],
   "metadata": {}
  },
  {
   "cell_type": "code",
   "execution_count": 16,
   "source": [
    "train_loss, train_acc = train_model(model, trainloader, loss_fn, optimizer, num_epochs, lr_scheduler=scheduler, device=\"cuda:0\")"
   ],
   "outputs": [
    {
     "output_type": "error",
     "ename": "TypeError",
     "evalue": "train_model() got an unexpected keyword argument 'lr_scheduler'",
     "traceback": [
      "\u001b[1;31m---------------------------------------------------------------------------\u001b[0m",
      "\u001b[1;31mTypeError\u001b[0m                                 Traceback (most recent call last)",
      "\u001b[1;32m<ipython-input-16-359e2abd7782>\u001b[0m in \u001b[0;36m<module>\u001b[1;34m\u001b[0m\n\u001b[1;32m----> 1\u001b[1;33m \u001b[0mtrain_loss\u001b[0m\u001b[1;33m,\u001b[0m \u001b[0mtrain_acc\u001b[0m \u001b[1;33m=\u001b[0m \u001b[0mtrain_model\u001b[0m\u001b[1;33m(\u001b[0m\u001b[0mmodel\u001b[0m\u001b[1;33m,\u001b[0m \u001b[0mtrainloader\u001b[0m\u001b[1;33m,\u001b[0m \u001b[0mloss_fn\u001b[0m\u001b[1;33m,\u001b[0m \u001b[0moptimizer\u001b[0m\u001b[1;33m,\u001b[0m \u001b[0mnum_epochs\u001b[0m\u001b[1;33m,\u001b[0m \u001b[0mlr_scheduler\u001b[0m\u001b[1;33m=\u001b[0m\u001b[0mscheduler\u001b[0m\u001b[1;33m,\u001b[0m \u001b[0mdevice\u001b[0m\u001b[1;33m=\u001b[0m\u001b[1;34m\"cuda:0\"\u001b[0m\u001b[1;33m)\u001b[0m\u001b[1;33m\u001b[0m\u001b[1;33m\u001b[0m\u001b[0m\n\u001b[0m",
      "\u001b[1;31mTypeError\u001b[0m: train_model() got an unexpected keyword argument 'lr_scheduler'"
     ]
    }
   ],
   "metadata": {}
  },
  {
   "cell_type": "code",
   "execution_count": 7,
   "source": [
    "final_loss, final_perf = test_model(model, testloader, loss_fn=loss_fn)"
   ],
   "outputs": [
    {
     "output_type": "stream",
     "name": "stdout",
     "text": [
      "TESTING - loss 11253.26155424118 - performance 0.9414833333333333\n"
     ]
    }
   ],
   "metadata": {}
  }
 ],
 "metadata": {
  "kernelspec": {
   "name": "python3",
   "display_name": "Python 3.9.2 64-bit ('torchenv': conda)"
  },
  "language_info": {
   "name": "python",
   "version": "3.9.2",
   "mimetype": "text/x-python",
   "codemirror_mode": {
    "name": "ipython",
    "version": 3
   },
   "pygments_lexer": "ipython3",
   "nbconvert_exporter": "python",
   "file_extension": ".py"
  },
  "interpreter": {
   "hash": "cbf44f2bcbc60d09e119be1d56c4be5c34087e57cda6ccaa990ae958977726fe"
  }
 },
 "nbformat": 4,
 "nbformat_minor": 5
}